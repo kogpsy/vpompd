{
  "cells": [
    {
      "cell_type": "markdown",
      "source": [
        "# A Computational Approach to Vestibular Decision Making"
      ],
      "metadata": {
        "collapsed": false,
        "outputHidden": false,
        "inputHidden": false
      }
    },
    {
      "cell_type": "markdown",
      "source": [
        "We investigate the vestibular (perceptual) decision making. \n",
        "\n",
        "Two sub projects\n",
        "\n",
        "## Decision variable for perceptual decisions about self-motion\n",
        "Computational model decision making process. In particular, focus on the role of sensory \"evidence\": this is the output of a state inference model.\n",
        "\n",
        "We can conceptualize decision making either in the traditional DDM framework, or as a partially observable Markov decision process (POMDP). The latter approach is particularly interesting, as this framework is commonly used in robotics.\n",
        "\n",
        "A POMPD consists of a decision making agent, which acts on an environment, and in turn receives both observations of the state of the environment and a reward signal.\n",
        "\n",
        "State inference is typically performed by a filtering algorithm.\n",
        "\n",
        "## Effect of prior beliefs on vestibular decision making\n",
        "\nReplication of Wertheim experiment."
      ],
      "metadata": {
        "collapsed": false,
        "outputHidden": false,
        "inputHidden": false
      }
    },
    {
      "cell_type": "markdown",
      "source": [],
      "metadata": {}
    }
  ],
  "metadata": {
    "kernel_info": {
      "name": "julia-1.0"
    },
    "language_info": {
      "file_extension": ".jl",
      "name": "julia",
      "mimetype": "application/julia",
      "version": "1.0.2"
    },
    "kernelspec": {
      "name": "julia-1.0",
      "language": "julia",
      "display_name": "Julia 1.0.2"
    },
    "nteract": {
      "version": "0.12.3"
    }
  },
  "nbformat": 4,
  "nbformat_minor": 4
}